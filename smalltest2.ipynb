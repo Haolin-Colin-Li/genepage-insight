{
 "cells": [
  {
   "cell_type": "code",
   "execution_count": 4,
   "metadata": {},
   "outputs": [],
   "source": [
    "import pandas as pd\n",
    "import numpy as np\n",
    "import requests\n",
    "import sys"
   ]
  },
  {
   "cell_type": "code",
   "execution_count": 5,
   "metadata": {},
   "outputs": [],
   "source": [
    "klist=\"./mock_keyword_list.txt\"\n",
    "glist=\"./example_list.txt\""
   ]
  },
  {
   "cell_type": "code",
   "execution_count": null,
   "metadata": {},
   "outputs": [],
   "source": [
    "def append_summary():\n",
    "    with open(klist, \"r\") as fk:\n",
    "        pheno=[]\n",
    "        for line in fk:\n",
    "            pheno.append(line.rstrip())\n",
    "        #print(pheno)\n",
    "        summary=pd.read_csv(glist, sep=\"\\t\", header=None)\n",
    "        #summary.columns=[\"GENE\"]\n",
    "        genes=list(summary[0])\n",
    "        return genes\n",
    "\n",
    "        #creating knetminer genepage urls.\n",
    "        network_view=[]\n",
    "        keyw2 = \"+OR+\".join(\"({})\".format(i.replace(\" \", \"+AND+\")) for i in pheno)\n",
    "        #print(keyw2)\n",
    "        #define species\n",
    "        species=\"wheatknet\"\n",
    "        for i in genes:\n",
    "            link=\"http://knetminer.rothamsted.ac.uk/{}/genepage?list={}&keyword={}\".format(species, i, keyw2)\n",
    "            r=requests.get(link)\n",
    "            network_view.append(r.url)\n",
    "\n",
    "        #obtaining knetscores for genes\n",
    "        keyw1 = \"%20OR%20\".join(\"({})\".format(i.replace(\" \", \"+AND+\")) for i in pheno)\n",
    "        genestr=(\",\").join(genes)\n",
    "        link=\"http://knetminer.rothamsted.ac.uk/{}/genome?\".format(species)\n",
    "        parameters={\"keyword\":keyw1, \"list\":genestr}\n",
    "        r=requests.get(link, params=parameters)\n",
    "\n",
    "        #check if requests is successful\n",
    "        if not r.ok:\n",
    "                r.raise_for_status()\n",
    "                sys.exit()\n",
    "        \n",
    "        #extract unicode string of geneTable decoded from json\n",
    "        decoded=r.json()[u'geneTable'].split(\"\\t\")\n",
    "        #remove space or newline at the end\n",
    "        decoded=(decoded)[:-1]\n",
    "        \n",
    "        colnum=9\n",
    "        #tabulate genetable into 9 columns.\n",
    "        genetable=np.array(decoded).reshape(len(decoded)//colnum, colnum)\n",
    "        genetable=pd.DataFrame(genetable[1:,:], columns=genetable[0,:])\n",
    "                \n",
    "        knetgenes=list(genetable[u'ACCESSION'])\n",
    "        knetscores=list(genetable[u'SCORE'])\n",
    "        knetchro=list(genetable[u'CHRO'])\n",
    "        knetstart=list(genetable[u'START'])\n",
    "\n",
    "        #map genes to snps via a dictionary.\n",
    "        knetdict=dict(zip(knetgenes, knetscores))\n",
    "        ordered_score=[]\n",
    "        for i in summary[0]:\n",
    "            #convert gene id to upper case to avoid sensitivity issues.\n",
    "            i=i.upper()\n",
    "            ordered_score.append(knetdict[u'{}'.format(i)])\n",
    "        summary[u'knetscore'] = ordered_score\n",
    "        summary[u'network_view']=network_view\n",
    "\n",
    "        summary"
   ]
  },
  {
   "cell_type": "code",
   "execution_count": null,
   "metadata": {},
   "outputs": [],
   "source": [
    "append_summary()"
   ]
  },
  {
   "cell_type": "code",
   "execution_count": null,
   "metadata": {},
   "outputs": [],
   "source": []
  }
 ],
 "metadata": {
  "kernelspec": {
   "display_name": "Python 3",
   "language": "python",
   "name": "python3"
  },
  "language_info": {
   "codemirror_mode": {
    "name": "ipython",
    "version": 3
   },
   "file_extension": ".py",
   "mimetype": "text/x-python",
   "name": "python",
   "nbconvert_exporter": "python",
   "pygments_lexer": "ipython3",
   "version": "3.7.3"
  }
 },
 "nbformat": 4,
 "nbformat_minor": 2
}
