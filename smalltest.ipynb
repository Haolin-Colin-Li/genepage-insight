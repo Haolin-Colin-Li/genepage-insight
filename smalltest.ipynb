{
 "cells": [
  {
   "cell_type": "code",
   "execution_count": 110,
   "metadata": {},
   "outputs": [],
   "source": [
    "import pandas as pd\n",
    "import numpy as np\n",
    "import requests\n",
    "import sys"
   ]
  },
  {
   "cell_type": "code",
   "execution_count": 111,
   "metadata": {},
   "outputs": [],
   "source": [
    "klist=\"./mock_keyword_list.txt\"\n",
    "glist=\"./example_list.txt\""
   ]
  },
  {
   "cell_type": "code",
   "execution_count": 112,
   "metadata": {},
   "outputs": [
    {
     "name": "stdout",
     "output_type": "stream",
     "text": [
      "<class 'pandas.core.series.Series'>\n",
      "TRAESCS3B02G302100\n",
      "TRAESCS1A02G173400,TRAESCS4B02G293600,TRAESCS6A02G024400,TRAESCS6A02G222000,TRAESCS5A02G030800,TRAESCS4D02G275500,TRAESCS7D02G538400,TRAESCS7A02G107400,TRAESCS3A02G231900,TRAESCS3B02G302100\n"
     ]
    }
   ],
   "source": [
    "summary=pd.read_csv(glist, sep=\"\\t\", header=None)\n",
    "print(type(summary[0]))\n",
    "print(list(summary[0])[-1])\n",
    "print((\",\").join(list(summary[0])))"
   ]
  },
  {
   "cell_type": "code",
   "execution_count": 115,
   "metadata": {
    "scrolled": true
   },
   "outputs": [],
   "source": [
    "def append_summary():\n",
    "    with open(klist, \"r\") as fk:\n",
    "        pheno=[]\n",
    "        for line in fk:\n",
    "            pheno.append(line.rstrip())\n",
    "        #print(pheno)\n",
    "        summary=pd.read_csv(glist, sep=\"\\t\", header=None)\n",
    "        #summary.columns=[\"GENE\"]\n",
    "        genes=list(summary[0])\n",
    "        #return summary\n",
    "\n",
    "        #creating knetminer genepage urls.\n",
    "        network_view=[]\n",
    "        keyw2 = \"+OR+\".join(\"({})\".format(i.replace(\" \", \"+AND+\")) for i in pheno)\n",
    "        #print(keyw2)\n",
    "        #define species\n",
    "        species=\"wheatknet\"\n",
    "        for i in genes:\n",
    "            link=\"http://knetminer.rothamsted.ac.uk/{}/genepage?list={}&keyword={}\".format(species, i, keyw2)\n",
    "            r=requests.get(link)\n",
    "            network_view.append(r.url)\n",
    "\n",
    "        #obtaining knetscores for genes\n",
    "        keyw1 = \"%20OR%20\".join(\"({})\".format(i.replace(\" \", \"+AND+\")) for i in pheno)\n",
    "        genestr=(\",\").join(genes)\n",
    "        link=\"http://knetminer.rothamsted.ac.uk/{}/genome?\".format(species)\n",
    "        parameters={\"keyword\":keyw1, \"list\":genestr}\n",
    "        r=requests.get(link, params=parameters)\n",
    "\n",
    "        #check if requests is successful\n",
    "        if not r.ok:\n",
    "                r.raise_for_status()\n",
    "                sys.exit()\n",
    "        \n",
    "        #extract unicode string of geneTable decoded from json\n",
    "        decoded=r.json()[u'geneTable'].split(\"\\t\")\n",
    "        #remove space or newline at the end\n",
    "        decoded=(decoded)[:-1]\n",
    "        \n",
    "        colnum=9\n",
    "        #tabulate genetable into 9 columns.\n",
    "        genetable=np.array(decoded).reshape(len(decoded)//colnum, colnum)\n",
    "        genetable=pd.DataFrame(genetable[1:,:], columns=genetable[0,:])\n",
    "                \n",
    "        knetgenes=list(genetable[u'ACCESSION'])\n",
    "        knetscores=list(genetable[u'SCORE'])\n",
    "        knetchro=list(genetable[u'CHRO'])\n",
    "        knetstart=list(genetable[u'START'])\n",
    "\n",
    "        #map genes to snps via a dictionary.\n",
    "        knetdict=dict(zip(knetgenes, knetscores))\n",
    "        ordered_score=[]\n",
    "        for i in summary[0]:\n",
    "            #convert gene id to upper case to avoid sensitivity issues.\n",
    "            i=i.upper()\n",
    "            ordered_score.append(knetdict[u'{}'.format(i)])\n",
    "        summary[u'knetscore'] = ordered_score\n",
    "        summary[u'network_view']=network_view\n",
    "        #summary.to_csv(glist, sep=\"\\t\", index=False)\n",
    "\n",
    "        return summary"
   ]
  },
  {
   "cell_type": "code",
   "execution_count": null,
   "metadata": {},
   "outputs": [],
   "source": [
    "append_summary()"
   ]
  },
  {
   "cell_type": "code",
   "execution_count": null,
   "metadata": {},
   "outputs": [],
   "source": []
  },
  {
   "cell_type": "code",
   "execution_count": 72,
   "metadata": {},
   "outputs": [
    {
     "ename": "HTTPError",
     "evalue": "400 Client Error: Bad Request for url: http://rest.ensembl.org/phenotype/gene/triticum_aestivum/TRAESCS1A02G173400?include_associated=1",
     "output_type": "error",
     "traceback": [
      "\u001b[0;31m---------------------------------------------------------------------------\u001b[0m",
      "\u001b[0;31mHTTPError\u001b[0m                                 Traceback (most recent call last)",
      "\u001b[0;32m<ipython-input-72-3737e7001cd9>\u001b[0m in \u001b[0;36m<module>\u001b[0;34m\u001b[0m\n\u001b[1;32m      6\u001b[0m \u001b[0;34m\u001b[0m\u001b[0m\n\u001b[1;32m      7\u001b[0m \u001b[0;32mif\u001b[0m \u001b[0;32mnot\u001b[0m \u001b[0mr\u001b[0m\u001b[0;34m.\u001b[0m\u001b[0mok\u001b[0m\u001b[0;34m:\u001b[0m\u001b[0;34m\u001b[0m\u001b[0;34m\u001b[0m\u001b[0m\n\u001b[0;32m----> 8\u001b[0;31m   \u001b[0mr\u001b[0m\u001b[0;34m.\u001b[0m\u001b[0mraise_for_status\u001b[0m\u001b[0;34m(\u001b[0m\u001b[0;34m)\u001b[0m\u001b[0;34m\u001b[0m\u001b[0;34m\u001b[0m\u001b[0m\n\u001b[0m\u001b[1;32m      9\u001b[0m   \u001b[0msys\u001b[0m\u001b[0;34m.\u001b[0m\u001b[0mexit\u001b[0m\u001b[0;34m(\u001b[0m\u001b[0;34m)\u001b[0m\u001b[0;34m\u001b[0m\u001b[0;34m\u001b[0m\u001b[0m\n\u001b[1;32m     10\u001b[0m \u001b[0;34m\u001b[0m\u001b[0m\n",
      "\u001b[0;32m~/miniconda3/lib/python3.7/site-packages/requests/models.py\u001b[0m in \u001b[0;36mraise_for_status\u001b[0;34m(self)\u001b[0m\n\u001b[1;32m    938\u001b[0m \u001b[0;34m\u001b[0m\u001b[0m\n\u001b[1;32m    939\u001b[0m         \u001b[0;32mif\u001b[0m \u001b[0mhttp_error_msg\u001b[0m\u001b[0;34m:\u001b[0m\u001b[0;34m\u001b[0m\u001b[0;34m\u001b[0m\u001b[0m\n\u001b[0;32m--> 940\u001b[0;31m             \u001b[0;32mraise\u001b[0m \u001b[0mHTTPError\u001b[0m\u001b[0;34m(\u001b[0m\u001b[0mhttp_error_msg\u001b[0m\u001b[0;34m,\u001b[0m \u001b[0mresponse\u001b[0m\u001b[0;34m=\u001b[0m\u001b[0mself\u001b[0m\u001b[0;34m)\u001b[0m\u001b[0;34m\u001b[0m\u001b[0;34m\u001b[0m\u001b[0m\n\u001b[0m\u001b[1;32m    941\u001b[0m \u001b[0;34m\u001b[0m\u001b[0m\n\u001b[1;32m    942\u001b[0m     \u001b[0;32mdef\u001b[0m \u001b[0mclose\u001b[0m\u001b[0;34m(\u001b[0m\u001b[0mself\u001b[0m\u001b[0;34m)\u001b[0m\u001b[0;34m:\u001b[0m\u001b[0;34m\u001b[0m\u001b[0;34m\u001b[0m\u001b[0m\n",
      "\u001b[0;31mHTTPError\u001b[0m: 400 Client Error: Bad Request for url: http://rest.ensembl.org/phenotype/gene/triticum_aestivum/TRAESCS1A02G173400?include_associated=1"
     ]
    }
   ],
   "source": [
    "#get annotation from ensembl\n",
    "server = \"http://rest.ensembl.org\"\n",
    "ext = \"/phenotype/gene/triticum_aestivum/TRAESCS1A02G173400?include_associated=1\"\n",
    "\n",
    "r = requests.get(server+ext, headers={ \"Content-Type\" : \"application/json\"})\n",
    "\n",
    "if not r.ok:\n",
    "  r.raise_for_status()\n",
    "  sys.exit()\n",
    "\n",
    "decoded = r.json()\n",
    "#description=decoded[0][u'description']\n",
    "#print(decoded)"
   ]
  }
 ],
 "metadata": {
  "kernelspec": {
   "display_name": "Python 2",
   "language": "python",
   "name": "python2"
  },
  "language_info": {
   "codemirror_mode": {
    "name": "ipython",
    "version": 2
   },
   "file_extension": ".py",
   "mimetype": "text/x-python",
   "name": "python",
   "nbconvert_exporter": "python",
   "pygments_lexer": "ipython2",
   "version": "2.7.15"
  }
 },
 "nbformat": 4,
 "nbformat_minor": 2
}
